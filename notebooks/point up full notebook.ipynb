{
 "cells": [
  {
   "cell_type": "code",
   "execution_count": 83,
   "metadata": {},
   "outputs": [],
   "source": [
    "import pandas as pd\n",
    "import numpy as np\n",
    "import sklearn\n",
    "import seaborn as sns\n",
    "import matplotlib.pyplot as plt\n",
    "from scipy.stats.stats import pearsonr\n",
    "import datetime\n",
    "\n",
    "from sklearn.linear_model import LinearRegression\n",
    "from sklearn.linear_model import Lasso\n",
    "from sklearn.linear_model import Ridge\n",
    "from sklearn.ensemble import RandomForestRegressor\n",
    "from sklearn.linear_model import ElasticNet\n",
    "import xgboost as xgb\n",
    "\n",
    "from sklearn.metrics import log_loss\n",
    "from sklearn.metrics import mean_squared_error\n",
    "from sklearn.metrics import mean_absolute_error\n",
    "from sklearn.model_selection import train_test_split"
   ]
  },
  {
   "cell_type": "code",
   "execution_count": 84,
   "metadata": {},
   "outputs": [],
   "source": [
    "def cond(input):\n",
    "    return \"APARTMENTS\" in input or \"FAMILY\" in input"
   ]
  },
  {
   "cell_type": "code",
   "execution_count": 85,
   "metadata": {},
   "outputs": [
    {
     "name": "stderr",
     "output_type": "stream",
     "text": [
      "/Users/tamir/miniconda2/envs/PointUp/lib/python3.6/site-packages/IPython/core/interactiveshell.py:2785: DtypeWarning: Columns (14) have mixed types. Specify dtype option on import or set low_memory=False.\n",
      "  interactivity=interactivity, compiler=compiler, result=result)\n"
     ]
    },
    {
     "name": "stdout",
     "output_type": "stream",
     "text": [
      "(191120, 21)\n",
      "['01  ONE FAMILY HOMES                        '\n",
      " '02  TWO FAMILY HOMES                        '\n",
      " '03  THREE FAMILY HOMES                      '\n",
      " '07  RENTALS - WALKUP APARTMENTS             '\n",
      " '08  RENTALS - ELEVATOR APARTMENTS           '\n",
      " '10  COOPS - ELEVATOR APARTMENTS             '\n",
      " '09  COOPS - WALKUP APARTMENTS               '\n",
      " '13  CONDOS - ELEVATOR APARTMENTS            '\n",
      " '01  ONE FAMILY DWELLINGS                    '\n",
      " '02  TWO FAMILY DWELLINGS                    '\n",
      " '03  THREE FAMILY DWELLINGS                  '\n",
      " '01 ONE FAMILY DWELLINGS                    '\n",
      " '02 TWO FAMILY DWELLINGS                    '\n",
      " '03 THREE FAMILY DWELLINGS                  '\n",
      " '07 RENTALS - WALKUP APARTMENTS             '\n",
      " '08 RENTALS - ELEVATOR APARTMENTS           '\n",
      " '09 COOPS - WALKUP APARTMENTS               '\n",
      " '10 COOPS - ELEVATOR APARTMENTS             ']\n"
     ]
    }
   ],
   "source": [
    "df = pd.read_csv(\"nyc_sales_clean.csv\")\n",
    "df = df[df[\"BUILDING CLASS CATEGORY\"].map(cond)]\n",
    "print(df.shape)\n",
    "print(df[\"BUILDING CLASS CATEGORY\"].unique())\n",
    "df.to_csv(\"nyc_sales_homes.csv\", index=False)"
   ]
  },
  {
   "cell_type": "code",
   "execution_count": 86,
   "metadata": {},
   "outputs": [],
   "source": [
    "def binning(col, cut_points, labels=None):\n",
    "    #Define min and max values:\n",
    "    minval = col.min()\n",
    "    maxval = col.max()\n",
    "\n",
    "    #create list by adding min and max to cut_points\n",
    "    break_points = [minval] + cut_points + [maxval]\n",
    "\n",
    "    #if no labels provided, use default labels 0 ... (n-1)\n",
    "    if not labels:\n",
    "        labels = range(len(cut_points)+1)\n",
    "\n",
    "    #Binning using cut function of pandas\n",
    "    colBin = pd.cut(col,bins=break_points,labels=labels,include_lowest=True)\n",
    "    return colBin"
   ]
  },
  {
   "cell_type": "code",
   "execution_count": 87,
   "metadata": {},
   "outputs": [
    {
     "name": "stdout",
     "output_type": "stream",
     "text": [
      "PRE PRE-WAR    33788\n",
      "PRE-WAR        95107\n",
      "POST-WAR       41959\n",
      "MODERN         20266\n",
      "Name: YEAR TYPE, dtype: int64\n"
     ]
    }
   ],
   "source": [
    "cut_points = [1910, 1945, 1990]\n",
    "labels = [\"PRE PRE-WAR\", \"PRE-WAR\", \"POST-WAR\", \"MODERN\"]\n",
    "df[\"YEAR TYPE\"] = binning(df[\"YEAR BUILT\"], cut_points,labels)\n",
    "print(pd.value_counts(df[\"YEAR TYPE\"], sort=False))\n",
    "\n",
    "df[\"BUILDING AGE\"] = 2018 - df[\"YEAR BUILT\"]\n",
    "\n",
    "df.to_csv(\"nyc_sales_binned.csv\", index=False)"
   ]
  },
  {
   "cell_type": "code",
   "execution_count": 88,
   "metadata": {},
   "outputs": [
    {
     "data": {
      "text/html": [
       "<div>\n",
       "<style scoped>\n",
       "    .dataframe tbody tr th:only-of-type {\n",
       "        vertical-align: middle;\n",
       "    }\n",
       "\n",
       "    .dataframe tbody tr th {\n",
       "        vertical-align: top;\n",
       "    }\n",
       "\n",
       "    .dataframe thead th {\n",
       "        text-align: right;\n",
       "    }\n",
       "</style>\n",
       "<table border=\"1\" class=\"dataframe\">\n",
       "  <thead>\n",
       "    <tr style=\"text-align: right;\">\n",
       "      <th></th>\n",
       "      <th>BOROUGH</th>\n",
       "      <th>NEIGHBORHOOD</th>\n",
       "      <th>BUILDING CLASS CATEGORY</th>\n",
       "      <th>TAX CLASS AT PRESENT</th>\n",
       "      <th>BLOCK</th>\n",
       "      <th>LOT</th>\n",
       "      <th>EASE-MENT</th>\n",
       "      <th>BUILDING CLASS AT PRESENT</th>\n",
       "      <th>ADDRESS</th>\n",
       "      <th>APARTMENT NUMBER</th>\n",
       "      <th>...</th>\n",
       "      <th>TOTAL UNITS</th>\n",
       "      <th>LAND SQUARE FEET</th>\n",
       "      <th>GROSS SQUARE FEET</th>\n",
       "      <th>YEAR BUILT</th>\n",
       "      <th>TAX CLASS AT TIME OF SALE</th>\n",
       "      <th>BUILDING CLASS AT TIME OF SALE</th>\n",
       "      <th>SALE PRICE</th>\n",
       "      <th>SALE DATE</th>\n",
       "      <th>YEAR TYPE</th>\n",
       "      <th>BUILDING AGE</th>\n",
       "    </tr>\n",
       "  </thead>\n",
       "  <tbody>\n",
       "    <tr>\n",
       "      <th>0</th>\n",
       "      <td>2</td>\n",
       "      <td>BATHGATE</td>\n",
       "      <td>01  ONE FAMILY HOMES</td>\n",
       "      <td>1</td>\n",
       "      <td>3037</td>\n",
       "      <td>42</td>\n",
       "      <td></td>\n",
       "      <td>A1</td>\n",
       "      <td>4428 PARK AVENUE</td>\n",
       "      <td></td>\n",
       "      <td>...</td>\n",
       "      <td>1</td>\n",
       "      <td>3525</td>\n",
       "      <td>1340</td>\n",
       "      <td>1899</td>\n",
       "      <td>1</td>\n",
       "      <td>A1</td>\n",
       "      <td>287000</td>\n",
       "      <td>2010-12-10 00:00:00</td>\n",
       "      <td>PRE PRE-WAR</td>\n",
       "      <td>119</td>\n",
       "    </tr>\n",
       "    <tr>\n",
       "      <th>1</th>\n",
       "      <td>2</td>\n",
       "      <td>BATHGATE</td>\n",
       "      <td>01  ONE FAMILY HOMES</td>\n",
       "      <td>1</td>\n",
       "      <td>3039</td>\n",
       "      <td>64</td>\n",
       "      <td></td>\n",
       "      <td>A1</td>\n",
       "      <td>467 EAST 185 STREET</td>\n",
       "      <td></td>\n",
       "      <td>...</td>\n",
       "      <td>1</td>\n",
       "      <td>1667</td>\n",
       "      <td>1296</td>\n",
       "      <td>1910</td>\n",
       "      <td>1</td>\n",
       "      <td>A1</td>\n",
       "      <td>150000</td>\n",
       "      <td>2010-04-20 00:00:00</td>\n",
       "      <td>PRE PRE-WAR</td>\n",
       "      <td>108</td>\n",
       "    </tr>\n",
       "    <tr>\n",
       "      <th>2</th>\n",
       "      <td>2</td>\n",
       "      <td>BATHGATE</td>\n",
       "      <td>01  ONE FAMILY HOMES</td>\n",
       "      <td>1</td>\n",
       "      <td>3046</td>\n",
       "      <td>34</td>\n",
       "      <td></td>\n",
       "      <td>A1</td>\n",
       "      <td>2085 BATHGATE AVENUE</td>\n",
       "      <td></td>\n",
       "      <td>...</td>\n",
       "      <td>1</td>\n",
       "      <td>2060</td>\n",
       "      <td>1629</td>\n",
       "      <td>1899</td>\n",
       "      <td>1</td>\n",
       "      <td>A1</td>\n",
       "      <td>145915</td>\n",
       "      <td>2010-07-27 00:00:00</td>\n",
       "      <td>PRE PRE-WAR</td>\n",
       "      <td>119</td>\n",
       "    </tr>\n",
       "    <tr>\n",
       "      <th>3</th>\n",
       "      <td>2</td>\n",
       "      <td>BATHGATE</td>\n",
       "      <td>01  ONE FAMILY HOMES</td>\n",
       "      <td>1</td>\n",
       "      <td>3046</td>\n",
       "      <td>42</td>\n",
       "      <td></td>\n",
       "      <td>A1</td>\n",
       "      <td>2069 BATHGATE AVENUE</td>\n",
       "      <td></td>\n",
       "      <td>...</td>\n",
       "      <td>1</td>\n",
       "      <td>1964</td>\n",
       "      <td>1424</td>\n",
       "      <td>1899</td>\n",
       "      <td>1</td>\n",
       "      <td>A1</td>\n",
       "      <td>72790</td>\n",
       "      <td>2010-06-03 00:00:00</td>\n",
       "      <td>PRE PRE-WAR</td>\n",
       "      <td>119</td>\n",
       "    </tr>\n",
       "    <tr>\n",
       "      <th>4</th>\n",
       "      <td>2</td>\n",
       "      <td>BATHGATE</td>\n",
       "      <td>01  ONE FAMILY HOMES</td>\n",
       "      <td>1</td>\n",
       "      <td>3048</td>\n",
       "      <td>18</td>\n",
       "      <td></td>\n",
       "      <td>A9</td>\n",
       "      <td>2184 BATHGATE AVENUE</td>\n",
       "      <td></td>\n",
       "      <td>...</td>\n",
       "      <td>1</td>\n",
       "      <td>1768</td>\n",
       "      <td>1236</td>\n",
       "      <td>1930</td>\n",
       "      <td>1</td>\n",
       "      <td>A9</td>\n",
       "      <td>313300</td>\n",
       "      <td>2010-04-09 00:00:00</td>\n",
       "      <td>PRE-WAR</td>\n",
       "      <td>88</td>\n",
       "    </tr>\n",
       "    <tr>\n",
       "      <th>5</th>\n",
       "      <td>2</td>\n",
       "      <td>BATHGATE</td>\n",
       "      <td>01  ONE FAMILY HOMES</td>\n",
       "      <td>1</td>\n",
       "      <td>3048</td>\n",
       "      <td>19</td>\n",
       "      <td></td>\n",
       "      <td>A5</td>\n",
       "      <td>2186 BATHGATE AVENUE</td>\n",
       "      <td></td>\n",
       "      <td>...</td>\n",
       "      <td>1</td>\n",
       "      <td>1768</td>\n",
       "      <td>1188</td>\n",
       "      <td>1901</td>\n",
       "      <td>1</td>\n",
       "      <td>A5</td>\n",
       "      <td>299000</td>\n",
       "      <td>2010-06-30 00:00:00</td>\n",
       "      <td>PRE PRE-WAR</td>\n",
       "      <td>117</td>\n",
       "    </tr>\n",
       "    <tr>\n",
       "      <th>6</th>\n",
       "      <td>2</td>\n",
       "      <td>BATHGATE</td>\n",
       "      <td>01  ONE FAMILY HOMES</td>\n",
       "      <td>1</td>\n",
       "      <td>3048</td>\n",
       "      <td>19</td>\n",
       "      <td></td>\n",
       "      <td>A5</td>\n",
       "      <td>2186 BATHGATE AVENUE</td>\n",
       "      <td></td>\n",
       "      <td>...</td>\n",
       "      <td>1</td>\n",
       "      <td>1768</td>\n",
       "      <td>1188</td>\n",
       "      <td>1901</td>\n",
       "      <td>1</td>\n",
       "      <td>A5</td>\n",
       "      <td>132000</td>\n",
       "      <td>2010-02-23 00:00:00</td>\n",
       "      <td>PRE PRE-WAR</td>\n",
       "      <td>117</td>\n",
       "    </tr>\n",
       "    <tr>\n",
       "      <th>7</th>\n",
       "      <td>2</td>\n",
       "      <td>BATHGATE</td>\n",
       "      <td>01  ONE FAMILY HOMES</td>\n",
       "      <td>1</td>\n",
       "      <td>3048</td>\n",
       "      <td>28</td>\n",
       "      <td></td>\n",
       "      <td>A1</td>\n",
       "      <td>540 EAST 182 STREET</td>\n",
       "      <td></td>\n",
       "      <td>...</td>\n",
       "      <td>1</td>\n",
       "      <td>1209</td>\n",
       "      <td>1048</td>\n",
       "      <td>1901</td>\n",
       "      <td>1</td>\n",
       "      <td>A1</td>\n",
       "      <td>272231</td>\n",
       "      <td>2010-10-04 00:00:00</td>\n",
       "      <td>PRE PRE-WAR</td>\n",
       "      <td>117</td>\n",
       "    </tr>\n",
       "    <tr>\n",
       "      <th>8</th>\n",
       "      <td>2</td>\n",
       "      <td>BATHGATE</td>\n",
       "      <td>02  TWO FAMILY HOMES</td>\n",
       "      <td>1</td>\n",
       "      <td>3030</td>\n",
       "      <td>60</td>\n",
       "      <td></td>\n",
       "      <td>B3</td>\n",
       "      <td>4469 PARK AVENUE</td>\n",
       "      <td></td>\n",
       "      <td>...</td>\n",
       "      <td>2</td>\n",
       "      <td>1542</td>\n",
       "      <td>1542</td>\n",
       "      <td>1899</td>\n",
       "      <td>1</td>\n",
       "      <td>B3</td>\n",
       "      <td>88218</td>\n",
       "      <td>2010-01-27 00:00:00</td>\n",
       "      <td>PRE PRE-WAR</td>\n",
       "      <td>119</td>\n",
       "    </tr>\n",
       "    <tr>\n",
       "      <th>9</th>\n",
       "      <td>2</td>\n",
       "      <td>BATHGATE</td>\n",
       "      <td>02  TWO FAMILY HOMES</td>\n",
       "      <td>1</td>\n",
       "      <td>3030</td>\n",
       "      <td>71</td>\n",
       "      <td></td>\n",
       "      <td>B2</td>\n",
       "      <td>4443 PARK AVENUE</td>\n",
       "      <td></td>\n",
       "      <td>...</td>\n",
       "      <td>2</td>\n",
       "      <td>2352</td>\n",
       "      <td>1632</td>\n",
       "      <td>1899</td>\n",
       "      <td>1</td>\n",
       "      <td>B2</td>\n",
       "      <td>280000</td>\n",
       "      <td>2010-02-23 00:00:00</td>\n",
       "      <td>PRE PRE-WAR</td>\n",
       "      <td>119</td>\n",
       "    </tr>\n",
       "  </tbody>\n",
       "</table>\n",
       "<p>10 rows × 23 columns</p>\n",
       "</div>"
      ],
      "text/plain": [
       "   BOROUGH               NEIGHBORHOOD  \\\n",
       "0        2  BATHGATE                    \n",
       "1        2  BATHGATE                    \n",
       "2        2  BATHGATE                    \n",
       "3        2  BATHGATE                    \n",
       "4        2  BATHGATE                    \n",
       "5        2  BATHGATE                    \n",
       "6        2  BATHGATE                    \n",
       "7        2  BATHGATE                    \n",
       "8        2  BATHGATE                    \n",
       "9        2  BATHGATE                    \n",
       "\n",
       "                        BUILDING CLASS CATEGORY TAX CLASS AT PRESENT  BLOCK  \\\n",
       "0  01  ONE FAMILY HOMES                                            1   3037   \n",
       "1  01  ONE FAMILY HOMES                                            1   3039   \n",
       "2  01  ONE FAMILY HOMES                                            1   3046   \n",
       "3  01  ONE FAMILY HOMES                                            1   3046   \n",
       "4  01  ONE FAMILY HOMES                                            1   3048   \n",
       "5  01  ONE FAMILY HOMES                                            1   3048   \n",
       "6  01  ONE FAMILY HOMES                                            1   3048   \n",
       "7  01  ONE FAMILY HOMES                                            1   3048   \n",
       "8  02  TWO FAMILY HOMES                                            1   3030   \n",
       "9  02  TWO FAMILY HOMES                                            1   3030   \n",
       "\n",
       "   LOT EASE-MENT BUILDING CLASS AT PRESENT  \\\n",
       "0   42                                  A1   \n",
       "1   64                                  A1   \n",
       "2   34                                  A1   \n",
       "3   42                                  A1   \n",
       "4   18                                  A9   \n",
       "5   19                                  A5   \n",
       "6   19                                  A5   \n",
       "7   28                                  A1   \n",
       "8   60                                  B3   \n",
       "9   71                                  B2   \n",
       "\n",
       "                                     ADDRESS APARTMENT NUMBER      ...       \\\n",
       "0  4428 PARK AVENUE                                                ...        \n",
       "1  467 EAST 185 STREET                                             ...        \n",
       "2  2085 BATHGATE AVENUE                                            ...        \n",
       "3  2069 BATHGATE AVENUE                                            ...        \n",
       "4  2184 BATHGATE AVENUE                                            ...        \n",
       "5  2186 BATHGATE AVENUE                                            ...        \n",
       "6  2186 BATHGATE AVENUE                                            ...        \n",
       "7  540 EAST 182 STREET                                             ...        \n",
       "8  4469 PARK AVENUE                                                ...        \n",
       "9  4443 PARK AVENUE                                                ...        \n",
       "\n",
       "   TOTAL UNITS  LAND SQUARE FEET  GROSS SQUARE FEET  YEAR BUILT  \\\n",
       "0            1              3525               1340        1899   \n",
       "1            1              1667               1296        1910   \n",
       "2            1              2060               1629        1899   \n",
       "3            1              1964               1424        1899   \n",
       "4            1              1768               1236        1930   \n",
       "5            1              1768               1188        1901   \n",
       "6            1              1768               1188        1901   \n",
       "7            1              1209               1048        1901   \n",
       "8            2              1542               1542        1899   \n",
       "9            2              2352               1632        1899   \n",
       "\n",
       "   TAX CLASS AT TIME OF SALE  BUILDING CLASS AT TIME OF SALE  SALE PRICE  \\\n",
       "0                          1                              A1      287000   \n",
       "1                          1                              A1      150000   \n",
       "2                          1                              A1      145915   \n",
       "3                          1                              A1       72790   \n",
       "4                          1                              A9      313300   \n",
       "5                          1                              A5      299000   \n",
       "6                          1                              A5      132000   \n",
       "7                          1                              A1      272231   \n",
       "8                          1                              B3       88218   \n",
       "9                          1                              B2      280000   \n",
       "\n",
       "             SALE DATE    YEAR TYPE  BUILDING AGE  \n",
       "0  2010-12-10 00:00:00  PRE PRE-WAR           119  \n",
       "1  2010-04-20 00:00:00  PRE PRE-WAR           108  \n",
       "2  2010-07-27 00:00:00  PRE PRE-WAR           119  \n",
       "3  2010-06-03 00:00:00  PRE PRE-WAR           119  \n",
       "4  2010-04-09 00:00:00      PRE-WAR            88  \n",
       "5  2010-06-30 00:00:00  PRE PRE-WAR           117  \n",
       "6  2010-02-23 00:00:00  PRE PRE-WAR           117  \n",
       "7  2010-10-04 00:00:00  PRE PRE-WAR           117  \n",
       "8  2010-01-27 00:00:00  PRE PRE-WAR           119  \n",
       "9  2010-02-23 00:00:00  PRE PRE-WAR           119  \n",
       "\n",
       "[10 rows x 23 columns]"
      ]
     },
     "execution_count": 88,
     "metadata": {},
     "output_type": "execute_result"
    }
   ],
   "source": [
    "data = pd.read_csv('nyc_sales_binned.csv')\n",
    "data.head(10)"
   ]
  },
  {
   "cell_type": "code",
   "execution_count": 89,
   "metadata": {},
   "outputs": [],
   "source": [
    "data[\"BOROUGH\"] = data[\"BOROUGH\"].astype('category')\n",
    "data['TAX CLASS AT TIME OF SALE'] = data['TAX CLASS AT TIME OF SALE'].astype('category')\n",
    "data['TAX CLASS AT PRESENT'] = data['TAX CLASS AT PRESENT'].astype('category')\n",
    "data['SALE DATE'] = pd.to_datetime(data['SALE DATE'], errors='coerce')\n",
    "data[\"NEIGHBORHOOD\"] = data[\"NEIGHBORHOOD\"].astype('category')\n",
    "data[\"BUILDING CLASS CATEGORY\"] = data[\"BUILDING CLASS CATEGORY\"].astype('category')\n",
    "data[\"BUILDING CLASS AT PRESENT\"] = data[\"BUILDING CLASS AT PRESENT\"].astype('category')\n",
    "data[\"BUILDING CLASS AT TIME OF SALE\"] = data[\"BUILDING CLASS AT TIME OF SALE\"].astype('category')"
   ]
  },
  {
   "cell_type": "code",
   "execution_count": 90,
   "metadata": {},
   "outputs": [
    {
     "data": {
      "text/plain": [
       "0"
      ]
     },
     "execution_count": 90,
     "metadata": {},
     "output_type": "execute_result"
    }
   ],
   "source": [
    "#remove duplicates and check that it worked\n",
    "data = data.drop_duplicates(data.columns, keep='last')\n",
    "sum(data.duplicated(data.columns))"
   ]
  },
  {
   "cell_type": "code",
   "execution_count": 91,
   "metadata": {},
   "outputs": [
    {
     "data": {
      "text/plain": [
       "(190699, 23)"
      ]
     },
     "execution_count": 91,
     "metadata": {},
     "output_type": "execute_result"
    }
   ],
   "source": [
    "#check number of rows and columns\n",
    "data.shape"
   ]
  },
  {
   "cell_type": "code",
   "execution_count": 92,
   "metadata": {},
   "outputs": [
    {
     "data": {
      "text/html": [
       "<div>\n",
       "<style scoped>\n",
       "    .dataframe tbody tr th:only-of-type {\n",
       "        vertical-align: middle;\n",
       "    }\n",
       "\n",
       "    .dataframe tbody tr th {\n",
       "        vertical-align: top;\n",
       "    }\n",
       "\n",
       "    .dataframe thead th {\n",
       "        text-align: right;\n",
       "    }\n",
       "</style>\n",
       "<table border=\"1\" class=\"dataframe\">\n",
       "  <thead>\n",
       "    <tr style=\"text-align: right;\">\n",
       "      <th></th>\n",
       "      <th>BLOCK</th>\n",
       "      <th>LOT</th>\n",
       "      <th>ZIP CODE</th>\n",
       "      <th>RESIDENTIAL UNITS</th>\n",
       "      <th>COMMERCIAL UNITS</th>\n",
       "      <th>TOTAL UNITS</th>\n",
       "      <th>LAND SQUARE FEET</th>\n",
       "      <th>GROSS SQUARE FEET</th>\n",
       "      <th>YEAR BUILT</th>\n",
       "      <th>SALE PRICE</th>\n",
       "      <th>BUILDING AGE</th>\n",
       "    </tr>\n",
       "  </thead>\n",
       "  <tbody>\n",
       "    <tr>\n",
       "      <th>BLOCK</th>\n",
       "      <td>1.000000</td>\n",
       "      <td>0.038959</td>\n",
       "      <td>0.473909</td>\n",
       "      <td>-0.040559</td>\n",
       "      <td>-0.089891</td>\n",
       "      <td>-0.041447</td>\n",
       "      <td>0.003588</td>\n",
       "      <td>-0.039476</td>\n",
       "      <td>0.088689</td>\n",
       "      <td>-0.042278</td>\n",
       "      <td>-0.088689</td>\n",
       "    </tr>\n",
       "    <tr>\n",
       "      <th>LOT</th>\n",
       "      <td>0.038959</td>\n",
       "      <td>1.000000</td>\n",
       "      <td>-0.090810</td>\n",
       "      <td>-0.008401</td>\n",
       "      <td>-0.028698</td>\n",
       "      <td>-0.008708</td>\n",
       "      <td>0.003544</td>\n",
       "      <td>-0.008795</td>\n",
       "      <td>0.079750</td>\n",
       "      <td>-0.008311</td>\n",
       "      <td>-0.079750</td>\n",
       "    </tr>\n",
       "    <tr>\n",
       "      <th>ZIP CODE</th>\n",
       "      <td>0.473909</td>\n",
       "      <td>-0.090810</td>\n",
       "      <td>1.000000</td>\n",
       "      <td>-0.048019</td>\n",
       "      <td>-0.104358</td>\n",
       "      <td>-0.049040</td>\n",
       "      <td>-0.026182</td>\n",
       "      <td>-0.048245</td>\n",
       "      <td>-0.138520</td>\n",
       "      <td>-0.049154</td>\n",
       "      <td>0.138520</td>\n",
       "    </tr>\n",
       "    <tr>\n",
       "      <th>RESIDENTIAL UNITS</th>\n",
       "      <td>-0.040559</td>\n",
       "      <td>-0.008401</td>\n",
       "      <td>-0.048019</td>\n",
       "      <td>1.000000</td>\n",
       "      <td>0.380229</td>\n",
       "      <td>0.999931</td>\n",
       "      <td>0.659252</td>\n",
       "      <td>0.899368</td>\n",
       "      <td>-0.000108</td>\n",
       "      <td>0.784236</td>\n",
       "      <td>0.000108</td>\n",
       "    </tr>\n",
       "    <tr>\n",
       "      <th>COMMERCIAL UNITS</th>\n",
       "      <td>-0.089891</td>\n",
       "      <td>-0.028698</td>\n",
       "      <td>-0.104358</td>\n",
       "      <td>0.380229</td>\n",
       "      <td>1.000000</td>\n",
       "      <td>0.390553</td>\n",
       "      <td>0.312866</td>\n",
       "      <td>0.433772</td>\n",
       "      <td>-0.041225</td>\n",
       "      <td>0.386101</td>\n",
       "      <td>0.041225</td>\n",
       "    </tr>\n",
       "    <tr>\n",
       "      <th>TOTAL UNITS</th>\n",
       "      <td>-0.041447</td>\n",
       "      <td>-0.008708</td>\n",
       "      <td>-0.049040</td>\n",
       "      <td>0.999931</td>\n",
       "      <td>0.390553</td>\n",
       "      <td>1.000000</td>\n",
       "      <td>0.659968</td>\n",
       "      <td>0.900418</td>\n",
       "      <td>-0.000605</td>\n",
       "      <td>0.785232</td>\n",
       "      <td>0.000605</td>\n",
       "    </tr>\n",
       "    <tr>\n",
       "      <th>LAND SQUARE FEET</th>\n",
       "      <td>0.003588</td>\n",
       "      <td>0.003544</td>\n",
       "      <td>-0.026182</td>\n",
       "      <td>0.659252</td>\n",
       "      <td>0.312866</td>\n",
       "      <td>0.659968</td>\n",
       "      <td>1.000000</td>\n",
       "      <td>0.794457</td>\n",
       "      <td>0.015593</td>\n",
       "      <td>0.502908</td>\n",
       "      <td>-0.015593</td>\n",
       "    </tr>\n",
       "    <tr>\n",
       "      <th>GROSS SQUARE FEET</th>\n",
       "      <td>-0.039476</td>\n",
       "      <td>-0.008795</td>\n",
       "      <td>-0.048245</td>\n",
       "      <td>0.899368</td>\n",
       "      <td>0.433772</td>\n",
       "      <td>0.900418</td>\n",
       "      <td>0.794457</td>\n",
       "      <td>1.000000</td>\n",
       "      <td>0.004421</td>\n",
       "      <td>0.846223</td>\n",
       "      <td>-0.004421</td>\n",
       "    </tr>\n",
       "    <tr>\n",
       "      <th>YEAR BUILT</th>\n",
       "      <td>0.088689</td>\n",
       "      <td>0.079750</td>\n",
       "      <td>-0.138520</td>\n",
       "      <td>-0.000108</td>\n",
       "      <td>-0.041225</td>\n",
       "      <td>-0.000605</td>\n",
       "      <td>0.015593</td>\n",
       "      <td>0.004421</td>\n",
       "      <td>1.000000</td>\n",
       "      <td>-0.004863</td>\n",
       "      <td>-1.000000</td>\n",
       "    </tr>\n",
       "    <tr>\n",
       "      <th>SALE PRICE</th>\n",
       "      <td>-0.042278</td>\n",
       "      <td>-0.008311</td>\n",
       "      <td>-0.049154</td>\n",
       "      <td>0.784236</td>\n",
       "      <td>0.386101</td>\n",
       "      <td>0.785232</td>\n",
       "      <td>0.502908</td>\n",
       "      <td>0.846223</td>\n",
       "      <td>-0.004863</td>\n",
       "      <td>1.000000</td>\n",
       "      <td>0.004863</td>\n",
       "    </tr>\n",
       "    <tr>\n",
       "      <th>BUILDING AGE</th>\n",
       "      <td>-0.088689</td>\n",
       "      <td>-0.079750</td>\n",
       "      <td>0.138520</td>\n",
       "      <td>0.000108</td>\n",
       "      <td>0.041225</td>\n",
       "      <td>0.000605</td>\n",
       "      <td>-0.015593</td>\n",
       "      <td>-0.004421</td>\n",
       "      <td>-1.000000</td>\n",
       "      <td>0.004863</td>\n",
       "      <td>1.000000</td>\n",
       "    </tr>\n",
       "  </tbody>\n",
       "</table>\n",
       "</div>"
      ],
      "text/plain": [
       "                      BLOCK       LOT  ZIP CODE  RESIDENTIAL UNITS  \\\n",
       "BLOCK              1.000000  0.038959  0.473909          -0.040559   \n",
       "LOT                0.038959  1.000000 -0.090810          -0.008401   \n",
       "ZIP CODE           0.473909 -0.090810  1.000000          -0.048019   \n",
       "RESIDENTIAL UNITS -0.040559 -0.008401 -0.048019           1.000000   \n",
       "COMMERCIAL UNITS  -0.089891 -0.028698 -0.104358           0.380229   \n",
       "TOTAL UNITS       -0.041447 -0.008708 -0.049040           0.999931   \n",
       "LAND SQUARE FEET   0.003588  0.003544 -0.026182           0.659252   \n",
       "GROSS SQUARE FEET -0.039476 -0.008795 -0.048245           0.899368   \n",
       "YEAR BUILT         0.088689  0.079750 -0.138520          -0.000108   \n",
       "SALE PRICE        -0.042278 -0.008311 -0.049154           0.784236   \n",
       "BUILDING AGE      -0.088689 -0.079750  0.138520           0.000108   \n",
       "\n",
       "                   COMMERCIAL UNITS  TOTAL UNITS  LAND SQUARE FEET  \\\n",
       "BLOCK                     -0.089891    -0.041447          0.003588   \n",
       "LOT                       -0.028698    -0.008708          0.003544   \n",
       "ZIP CODE                  -0.104358    -0.049040         -0.026182   \n",
       "RESIDENTIAL UNITS          0.380229     0.999931          0.659252   \n",
       "COMMERCIAL UNITS           1.000000     0.390553          0.312866   \n",
       "TOTAL UNITS                0.390553     1.000000          0.659968   \n",
       "LAND SQUARE FEET           0.312866     0.659968          1.000000   \n",
       "GROSS SQUARE FEET          0.433772     0.900418          0.794457   \n",
       "YEAR BUILT                -0.041225    -0.000605          0.015593   \n",
       "SALE PRICE                 0.386101     0.785232          0.502908   \n",
       "BUILDING AGE               0.041225     0.000605         -0.015593   \n",
       "\n",
       "                   GROSS SQUARE FEET  YEAR BUILT  SALE PRICE  BUILDING AGE  \n",
       "BLOCK                      -0.039476    0.088689   -0.042278     -0.088689  \n",
       "LOT                        -0.008795    0.079750   -0.008311     -0.079750  \n",
       "ZIP CODE                   -0.048245   -0.138520   -0.049154      0.138520  \n",
       "RESIDENTIAL UNITS           0.899368   -0.000108    0.784236      0.000108  \n",
       "COMMERCIAL UNITS            0.433772   -0.041225    0.386101      0.041225  \n",
       "TOTAL UNITS                 0.900418   -0.000605    0.785232      0.000605  \n",
       "LAND SQUARE FEET            0.794457    0.015593    0.502908     -0.015593  \n",
       "GROSS SQUARE FEET           1.000000    0.004421    0.846223     -0.004421  \n",
       "YEAR BUILT                  0.004421    1.000000   -0.004863     -1.000000  \n",
       "SALE PRICE                  0.846223   -0.004863    1.000000      0.004863  \n",
       "BUILDING AGE               -0.004421   -1.000000    0.004863      1.000000  "
      ]
     },
     "execution_count": 92,
     "metadata": {},
     "output_type": "execute_result"
    }
   ],
   "source": [
    "data.corr()"
   ]
  },
  {
   "cell_type": "markdown",
   "metadata": {},
   "source": [
    "# CLEAN OUTLIERS"
   ]
  },
  {
   "cell_type": "code",
   "execution_count": 93,
   "metadata": {
    "scrolled": false
   },
   "outputs": [
    {
     "data": {
      "image/png": "[encoded data removed]",
      "text/plain": [
       "<Figure size 432x288 with 1 Axes>"
      ]
     },
     "metadata": {},
     "output_type": "display_data"
    },
    {
     "data": {
      "image/png": "[encoded data removed]",
      "text/plain": [
       "<Figure size 432x288 with 1 Axes>"
      ]
     },
     "metadata": {},
     "output_type": "display_data"
    },
    {
     "data": {
      "image/png": "[encoded data removed]",
      "text/plain": [
       "<Figure size 432x288 with 1 Axes>"
      ]
     },
     "metadata": {},
     "output_type": "display_data"
    }
   ],
   "source": [
    "sns.boxplot(x=\"SALE PRICE\", data=data)\n",
    "plt.show()\n",
    "sns.boxplot(x=\"GROSS SQUARE FEET\", data=data)\n",
    "plt.show()\n",
    "sns.boxplot(x=\"LAND SQUARE FEET\", data=data)\n",
    "plt.show()"
   ]
  },
  {
   "cell_type": "code",
   "execution_count": 94,
   "metadata": {},
   "outputs": [
    {
     "data": {
      "image/png": "[encoded data removed]",
      "text/plain": [
       "<Figure size 720x432 with 1 Axes>"
      ]
     },
     "metadata": {},
     "output_type": "display_data"
    },
    {
     "data": {
      "image/png": "[encoded data removed]",
      "text/plain": [
       "<Figure size 720x432 with 1 Axes>"
      ]
     },
     "metadata": {},
     "output_type": "display_data"
    },
    {
     "data": {
      "image/png": "[encoded data removed]",
      "text/plain": [
       "<Figure size 720x432 with 1 Axes>"
      ]
     },
     "metadata": {},
     "output_type": "display_data"
    }
   ],
   "source": [
    "data = data[data[\"SALE PRICE\"]<4000000]\n",
    "data = data[data[\"GROSS SQUARE FEET\"]<20000]\n",
    "data = data[data[\"LAND SQUARE FEET\"]<25000]\n",
    "plt.figure(figsize=(10,6))\n",
    "sns.boxplot(x=\"SALE PRICE\", data=data)\n",
    "plt.show()\n",
    "plt.figure(figsize=(10,6))\n",
    "sns.boxplot(x=\"GROSS SQUARE FEET\", data=data)\n",
    "plt.show()\n",
    "plt.figure(figsize=(10,6))\n",
    "sns.boxplot(x=\"LAND SQUARE FEET\", data=data)\n",
    "plt.show()"
   ]
  },
  {
   "cell_type": "code",
   "execution_count": 95,
   "metadata": {},
   "outputs": [
    {
     "data": {
      "image/png": "[encoded data removed]",
      "text/plain": [
       "<Figure size 432x288 with 1 Axes>"
      ]
     },
     "metadata": {},
     "output_type": "display_data"
    },
    {
     "data": {
      "image/png": "[encoded data removed]",
      "text/plain": [
       "<Figure size 720x432 with 1 Axes>"
      ]
     },
     "metadata": {},
     "output_type": "display_data"
    }
   ],
   "source": [
    "sns.boxplot(x=\"YEAR BUILT\", data=data)\n",
    "plt.show()\n",
    "data = data[data[\"YEAR BUILT\"]>1750]\n",
    "plt.figure(figsize=(10,6))\n",
    "sns.boxplot(x=\"YEAR BUILT\", data=data)\n",
    "plt.show()"
   ]
  },
  {
   "cell_type": "code",
   "execution_count": 96,
   "metadata": {},
   "outputs": [
    {
     "data": {
      "text/plain": [
       "1     170856\n",
       "2A      7945\n",
       "2B      2341\n",
       "2       1894\n",
       "2C        27\n",
       "4          0\n",
       "1D         0\n",
       "Name: TAX CLASS AT PRESENT, dtype: int64"
      ]
     },
     "execution_count": 96,
     "metadata": {},
     "output_type": "execute_result"
    }
   ],
   "source": [
    "data = data[data[\"TAX CLASS AT PRESENT\"]!=\"4\"]\n",
    "data[\"TAX CLASS AT PRESENT\"].value_counts()"
   ]
  },
  {
   "cell_type": "code",
   "execution_count": 97,
   "metadata": {},
   "outputs": [
    {
     "data": {
      "text/plain": [
       "(183063, 23)"
      ]
     },
     "execution_count": 97,
     "metadata": {},
     "output_type": "execute_result"
    }
   ],
   "source": [
    "data.shape"
   ]
  },
  {
   "cell_type": "code",
   "execution_count": 98,
   "metadata": {},
   "outputs": [
    {
     "name": "stderr",
     "output_type": "stream",
     "text": [
      "/Users/tamir/miniconda2/envs/PointUp/lib/python3.6/site-packages/matplotlib/axes/_axes.py:6462: UserWarning: The 'normed' kwarg is deprecated, and has been replaced by the 'density' kwarg.\n",
      "  warnings.warn(\"The 'normed' kwarg is deprecated, and has been \"\n"
     ]
    },
    {
     "data": {
      "image/png": "[encoded data removed]",
      "text/plain": [
       "<Figure size 432x288 with 1 Axes>"
      ]
     },
     "metadata": {},
     "output_type": "display_data"
    },
    {
     "data": {
      "image/png": "[encoded data removed]",
      "text/plain": [
       "<Figure size 432x288 with 1 Axes>"
      ]
     },
     "metadata": {},
     "output_type": "display_data"
    }
   ],
   "source": [
    "sns.distplot(data[\"SALE PRICE\"])\n",
    "plt.show()\n",
    "sns.distplot(data[\"GROSS SQUARE FEET\"])\n",
    "plt.show()"
   ]
  },
  {
   "cell_type": "code",
   "execution_count": 99,
   "metadata": {},
   "outputs": [
    {
     "data": {
      "image/png": "[encoded data removed]",
      "text/plain": [
       "<Figure size 720x432 with 1 Axes>"
      ]
     },
     "metadata": {},
     "output_type": "display_data"
    }
   ],
   "source": [
    "plt.figure(figsize=(10,6))\n",
    "ax = sns.boxplot(x='BOROUGH', y='SALE PRICE', data=data)\n",
    "ax.set_xticklabels([\"Manhattan\",\"Bronx\",\"Brooklyn\",\"Queens\",\"Staten Island\"], rotation='vertical', fontsize = 12)\n",
    "plt.title('BOROUGH vs Sale Price')\n",
    "plt.show()"
   ]
  },
  {
   "cell_type": "code",
   "execution_count": 100,
   "metadata": {},
   "outputs": [],
   "source": [
    "data = data.sample(frac=1).reset_index(drop=True)"
   ]
  },
  {
   "cell_type": "code",
   "execution_count": 101,
   "metadata": {},
   "outputs": [
    {
     "data": {
      "image/png": "[encoded data removed]",
      "text/plain": [
       "<Figure size 432x288 with 1 Axes>"
      ]
     },
     "metadata": {},
     "output_type": "display_data"
    }
   ],
   "source": [
    "sns.regplot(x=\"GROSS SQUARE FEET\", y=\"SALE PRICE\", data=data.iloc[:1000], fit_reg=False)\n",
    "plt.show()"
   ]
  },
  {
   "cell_type": "code",
   "execution_count": 102,
   "metadata": {},
   "outputs": [
    {
     "data": {
      "text/plain": [
       "FLUSHING-NORTH               4865\n",
       "BEDFORD STUYVESANT           4737\n",
       "EAST NEW YORK                3118\n",
       "BUSHWICK                     2838\n",
       "SO. JAMAICA-BAISLEY PARK     2750\n",
       "BAYSIDE                      2703\n",
       "RICHMOND HILL                2637\n",
       "ST. ALBANS                   2544\n",
       "SOUTH JAMAICA                2472\n",
       "BOROUGH PARK                 2334\n",
       "GREAT KILLS                  2294\n",
       "CANARSIE                     2228\n",
       "QUEENS VILLAGE               2209\n",
       "FLATBUSH-EAST                2205\n",
       "SPRINGFIELD GARDENS          2144\n",
       "CROWN HEIGHTS                2049\n",
       "SOUTH OZONE PARK             1963\n",
       "FLUSHING-SOUTH               1917\n",
       "ASTORIA                      1862\n",
       "OZONE PARK                   1834\n",
       "BAY RIDGE                    1832\n",
       "OCEAN HILL                   1727\n",
       "HOLLIS                       1677\n",
       "BENSONHURST                  1661\n",
       "CORONA                       1646\n",
       "WOODHAVEN                    1633\n",
       "GRAVESEND                    1610\n",
       "MIDDLE VILLAGE               1596\n",
       "ELMHURST                     1582\n",
       "SUNSET PARK                  1553\n",
       "                             ... \n",
       "NEW BRIGHTON-ST. GEORGE         1\n",
       "MIDTOWN CBD                     1\n",
       "CO-OP CITY                      1\n",
       "UPPER WEST SIDE (96-116)        1\n",
       "UPPER WEST SIDE (59-79)         1\n",
       "BLOOMFIELD                      1\n",
       "FLUSHING MEADOW PARK            1\n",
       "FRESH KILLS                     1\n",
       "DOWNTOWN-FULTON MALL            1\n",
       "MORNINGSIDE HEIGHTS             1\n",
       "MORNINGSIDE HEIGHTS             1\n",
       "ROSSVILLE-PORT MOBIL            1\n",
       "ALPHABET CITY                   0\n",
       "LITTLE ITALY                    0\n",
       "TRIBECA                         0\n",
       "UPPER EAST SIDE (59-79)         0\n",
       "KIPS BAY                        0\n",
       "FLATIRON                        0\n",
       "SOUTHBRIDGE                     0\n",
       "UPPER EAST SIDE (96-110)        0\n",
       "TRIBECA                         0\n",
       "MANHATTAN-UNKNOWN               0\n",
       "FINANCIAL                       0\n",
       "JAVITS CENTER                   0\n",
       "CHINATOWN                       0\n",
       "MIDTOWN WEST                    0\n",
       "CIVIC CENTER                    0\n",
       "LOWER EAST SIDE                 0\n",
       "FASHION                         0\n",
       "CIVIC CENTER                    0\n",
       "Name: NEIGHBORHOOD, Length: 492, dtype: int64"
      ]
     },
     "execution_count": 102,
     "metadata": {},
     "output_type": "execute_result"
    }
   ],
   "source": [
    "data[\"NEIGHBORHOOD\"].value_counts()"
   ]
  },
  {
   "cell_type": "code",
   "execution_count": 103,
   "metadata": {},
   "outputs": [
    {
     "data": {
      "image/png": "[encoded data removed]",
      "text/plain": [
       "<Figure size 720x432 with 1 Axes>"
      ]
     },
     "metadata": {},
     "output_type": "display_data"
    },
    {
     "data": {
      "image/png": "[encoded data removed]",
      "text/plain": [
       "<Figure size 720x432 with 1 Axes>"
      ]
     },
     "metadata": {},
     "output_type": "display_data"
    }
   ],
   "source": [
    "plt.figure(figsize=(10,6))\n",
    "sns.regplot(x=\"GROSS SQUARE FEET\", y=\"SALE PRICE\", data=data[data[\"NEIGHBORHOOD\"]==\"FLUSHING-NORTH\"])\n",
    "plt.show()\n",
    "plt.figure(figsize=(10,6))\n",
    "sns.boxplot(x=\"TOTAL UNITS\", y=\"SALE PRICE\", data=data[data[\"NEIGHBORHOOD\"]==\"FLUSHING-NORTH\"])\n",
    "plt.show()"
   ]
  },
  {
   "cell_type": "code",
   "execution_count": 104,
   "metadata": {},
   "outputs": [
    {
     "name": "stdout",
     "output_type": "stream",
     "text": [
      "correlation between TOTAL UNITS and RESIDENTIAL UNITS:  0.9946144865918709\n"
     ]
    },
    {
     "data": {
      "image/png": "[encoded data removed]",
      "text/plain": [
       "<Figure size 720x432 with 1 Axes>"
      ]
     },
     "metadata": {},
     "output_type": "display_data"
    }
   ],
   "source": [
    "print(\"correlation between TOTAL UNITS and RESIDENTIAL UNITS: \", data[\"TOTAL UNITS\"].corr(data[\"RESIDENTIAL UNITS\"]))\n",
    "plt.figure(figsize=(10,6))\n",
    "sns.regplot(x=\"TOTAL UNITS\", y=\"RESIDENTIAL UNITS\", data=data)\n",
    "plt.show()"
   ]
  },
  {
   "cell_type": "code",
   "execution_count": 105,
   "metadata": {},
   "outputs": [],
   "source": [
    "data = data.drop(columns=[\"RESIDENTIAL UNITS\"])"
   ]
  },
  {
   "cell_type": "code",
   "execution_count": 106,
   "metadata": {},
   "outputs": [],
   "source": [
    "data = data.drop(columns=[\"EASE-MENT\"])"
   ]
  },
  {
   "cell_type": "code",
   "execution_count": 107,
   "metadata": {},
   "outputs": [],
   "source": [
    "data = data.drop(columns=[\"ZIP CODE\"])"
   ]
  },
  {
   "cell_type": "code",
   "execution_count": 108,
   "metadata": {},
   "outputs": [
    {
     "data": {
      "text/html": [
       "<div>\n",
       "<style scoped>\n",
       "    .dataframe tbody tr th:only-of-type {\n",
       "        vertical-align: middle;\n",
       "    }\n",
       "\n",
       "    .dataframe tbody tr th {\n",
       "        vertical-align: top;\n",
       "    }\n",
       "\n",
       "    .dataframe thead th {\n",
       "        text-align: right;\n",
       "    }\n",
       "</style>\n",
       "<table border=\"1\" class=\"dataframe\">\n",
       "  <thead>\n",
       "    <tr style=\"text-align: right;\">\n",
       "      <th></th>\n",
       "      <th>BLOCK</th>\n",
       "      <th>LOT</th>\n",
       "      <th>COMMERCIAL UNITS</th>\n",
       "      <th>TOTAL UNITS</th>\n",
       "      <th>LAND SQUARE FEET</th>\n",
       "      <th>GROSS SQUARE FEET</th>\n",
       "      <th>YEAR BUILT</th>\n",
       "      <th>SALE PRICE</th>\n",
       "      <th>BUILDING AGE</th>\n",
       "    </tr>\n",
       "  </thead>\n",
       "  <tbody>\n",
       "    <tr>\n",
       "      <th>count</th>\n",
       "      <td>183063.000000</td>\n",
       "      <td>183063.000000</td>\n",
       "      <td>183063.00000</td>\n",
       "      <td>183063.000000</td>\n",
       "      <td>183063.000000</td>\n",
       "      <td>183063.000000</td>\n",
       "      <td>183063.000000</td>\n",
       "      <td>1.830630e+05</td>\n",
       "      <td>183063.000000</td>\n",
       "    </tr>\n",
       "    <tr>\n",
       "      <th>mean</th>\n",
       "      <td>5714.144136</td>\n",
       "      <td>61.498861</td>\n",
       "      <td>0.03542</td>\n",
       "      <td>2.029301</td>\n",
       "      <td>2962.511966</td>\n",
       "      <td>2272.436178</td>\n",
       "      <td>1939.967241</td>\n",
       "      <td>6.324367e+05</td>\n",
       "      <td>78.032759</td>\n",
       "    </tr>\n",
       "    <tr>\n",
       "      <th>std</th>\n",
       "      <td>3769.746322</td>\n",
       "      <td>118.343098</td>\n",
       "      <td>0.21627</td>\n",
       "      <td>2.043099</td>\n",
       "      <td>1682.437771</td>\n",
       "      <td>1537.946246</td>\n",
       "      <td>30.391108</td>\n",
       "      <td>4.826735e+05</td>\n",
       "      <td>30.391108</td>\n",
       "    </tr>\n",
       "    <tr>\n",
       "      <th>min</th>\n",
       "      <td>3.000000</td>\n",
       "      <td>1.000000</td>\n",
       "      <td>0.00000</td>\n",
       "      <td>0.000000</td>\n",
       "      <td>200.000000</td>\n",
       "      <td>1.000000</td>\n",
       "      <td>1800.000000</td>\n",
       "      <td>1.000100e+04</td>\n",
       "      <td>1.000000</td>\n",
       "    </tr>\n",
       "    <tr>\n",
       "      <th>25%</th>\n",
       "      <td>2858.000000</td>\n",
       "      <td>20.000000</td>\n",
       "      <td>0.00000</td>\n",
       "      <td>1.000000</td>\n",
       "      <td>2000.000000</td>\n",
       "      <td>1430.000000</td>\n",
       "      <td>1920.000000</td>\n",
       "      <td>3.600000e+05</td>\n",
       "      <td>63.000000</td>\n",
       "    </tr>\n",
       "    <tr>\n",
       "      <th>50%</th>\n",
       "      <td>5124.000000</td>\n",
       "      <td>39.000000</td>\n",
       "      <td>0.00000</td>\n",
       "      <td>2.000000</td>\n",
       "      <td>2500.000000</td>\n",
       "      <td>1935.000000</td>\n",
       "      <td>1930.000000</td>\n",
       "      <td>5.100000e+05</td>\n",
       "      <td>88.000000</td>\n",
       "    </tr>\n",
       "    <tr>\n",
       "      <th>75%</th>\n",
       "      <td>7988.000000</td>\n",
       "      <td>64.000000</td>\n",
       "      <td>0.00000</td>\n",
       "      <td>2.000000</td>\n",
       "      <td>3684.000000</td>\n",
       "      <td>2673.000000</td>\n",
       "      <td>1955.000000</td>\n",
       "      <td>7.500000e+05</td>\n",
       "      <td>98.000000</td>\n",
       "    </tr>\n",
       "    <tr>\n",
       "      <th>max</th>\n",
       "      <td>16322.000000</td>\n",
       "      <td>4336.000000</td>\n",
       "      <td>9.00000</td>\n",
       "      <td>94.000000</td>\n",
       "      <td>24989.000000</td>\n",
       "      <td>19969.000000</td>\n",
       "      <td>2017.000000</td>\n",
       "      <td>3.995000e+06</td>\n",
       "      <td>218.000000</td>\n",
       "    </tr>\n",
       "  </tbody>\n",
       "</table>\n",
       "</div>"
      ],
      "text/plain": [
       "               BLOCK            LOT  COMMERCIAL UNITS    TOTAL UNITS  \\\n",
       "count  183063.000000  183063.000000      183063.00000  183063.000000   \n",
       "mean     5714.144136      61.498861           0.03542       2.029301   \n",
       "std      3769.746322     118.343098           0.21627       2.043099   \n",
       "min         3.000000       1.000000           0.00000       0.000000   \n",
       "25%      2858.000000      20.000000           0.00000       1.000000   \n",
       "50%      5124.000000      39.000000           0.00000       2.000000   \n",
       "75%      7988.000000      64.000000           0.00000       2.000000   \n",
       "max     16322.000000    4336.000000           9.00000      94.000000   \n",
       "\n",
       "       LAND SQUARE FEET  GROSS SQUARE FEET     YEAR BUILT    SALE PRICE  \\\n",
       "count     183063.000000      183063.000000  183063.000000  1.830630e+05   \n",
       "mean        2962.511966        2272.436178    1939.967241  6.324367e+05   \n",
       "std         1682.437771        1537.946246      30.391108  4.826735e+05   \n",
       "min          200.000000           1.000000    1800.000000  1.000100e+04   \n",
       "25%         2000.000000        1430.000000    1920.000000  3.600000e+05   \n",
       "50%         2500.000000        1935.000000    1930.000000  5.100000e+05   \n",
       "75%         3684.000000        2673.000000    1955.000000  7.500000e+05   \n",
       "max        24989.000000       19969.000000    2017.000000  3.995000e+06   \n",
       "\n",
       "        BUILDING AGE  \n",
       "count  183063.000000  \n",
       "mean       78.032759  \n",
       "std        30.391108  \n",
       "min         1.000000  \n",
       "25%        63.000000  \n",
       "50%        88.000000  \n",
       "75%        98.000000  \n",
       "max       218.000000  "
      ]
     },
     "execution_count": 108,
     "metadata": {},
     "output_type": "execute_result"
    }
   ],
   "source": [
    "data.describe()"
   ]
  },
  {
   "cell_type": "code",
   "execution_count": 109,
   "metadata": {},
   "outputs": [
    {
     "data": {
      "text/html": [
       "<div>\n",
       "<style scoped>\n",
       "    .dataframe tbody tr th:only-of-type {\n",
       "        vertical-align: middle;\n",
       "    }\n",
       "\n",
       "    .dataframe tbody tr th {\n",
       "        vertical-align: top;\n",
       "    }\n",
       "\n",
       "    .dataframe thead th {\n",
       "        text-align: right;\n",
       "    }\n",
       "</style>\n",
       "<table border=\"1\" class=\"dataframe\">\n",
       "  <thead>\n",
       "    <tr style=\"text-align: right;\">\n",
       "      <th></th>\n",
       "      <th>BLOCK</th>\n",
       "      <th>LOT</th>\n",
       "      <th>COMMERCIAL UNITS</th>\n",
       "      <th>TOTAL UNITS</th>\n",
       "      <th>LAND SQUARE FEET</th>\n",
       "      <th>GROSS SQUARE FEET</th>\n",
       "      <th>YEAR BUILT</th>\n",
       "      <th>SALE PRICE</th>\n",
       "      <th>BUILDING AGE</th>\n",
       "    </tr>\n",
       "  </thead>\n",
       "  <tbody>\n",
       "    <tr>\n",
       "      <th>BLOCK</th>\n",
       "      <td>1.000000</td>\n",
       "      <td>-0.044041</td>\n",
       "      <td>0.008591</td>\n",
       "      <td>-0.007246</td>\n",
       "      <td>-0.159227</td>\n",
       "      <td>-0.092249</td>\n",
       "      <td>0.047383</td>\n",
       "      <td>-0.059082</td>\n",
       "      <td>-0.047383</td>\n",
       "    </tr>\n",
       "    <tr>\n",
       "      <th>LOT</th>\n",
       "      <td>-0.044041</td>\n",
       "      <td>1.000000</td>\n",
       "      <td>0.279405</td>\n",
       "      <td>0.049669</td>\n",
       "      <td>-0.153088</td>\n",
       "      <td>0.063699</td>\n",
       "      <td>0.004655</td>\n",
       "      <td>-0.025708</td>\n",
       "      <td>-0.004655</td>\n",
       "    </tr>\n",
       "    <tr>\n",
       "      <th>COMMERCIAL UNITS</th>\n",
       "      <td>0.008591</td>\n",
       "      <td>0.279405</td>\n",
       "      <td>1.000000</td>\n",
       "      <td>0.153734</td>\n",
       "      <td>-0.098318</td>\n",
       "      <td>0.125586</td>\n",
       "      <td>0.006936</td>\n",
       "      <td>0.032455</td>\n",
       "      <td>-0.006936</td>\n",
       "    </tr>\n",
       "    <tr>\n",
       "      <th>TOTAL UNITS</th>\n",
       "      <td>-0.007246</td>\n",
       "      <td>0.049669</td>\n",
       "      <td>0.153734</td>\n",
       "      <td>1.000000</td>\n",
       "      <td>-0.150309</td>\n",
       "      <td>0.634956</td>\n",
       "      <td>0.273723</td>\n",
       "      <td>0.404830</td>\n",
       "      <td>-0.273723</td>\n",
       "    </tr>\n",
       "    <tr>\n",
       "      <th>LAND SQUARE FEET</th>\n",
       "      <td>-0.159227</td>\n",
       "      <td>-0.153088</td>\n",
       "      <td>-0.098318</td>\n",
       "      <td>-0.150309</td>\n",
       "      <td>1.000000</td>\n",
       "      <td>0.112296</td>\n",
       "      <td>-0.173303</td>\n",
       "      <td>0.250613</td>\n",
       "      <td>0.173303</td>\n",
       "    </tr>\n",
       "    <tr>\n",
       "      <th>GROSS SQUARE FEET</th>\n",
       "      <td>-0.092249</td>\n",
       "      <td>0.063699</td>\n",
       "      <td>0.125586</td>\n",
       "      <td>0.634956</td>\n",
       "      <td>0.112296</td>\n",
       "      <td>1.000000</td>\n",
       "      <td>0.240585</td>\n",
       "      <td>0.548497</td>\n",
       "      <td>-0.240585</td>\n",
       "    </tr>\n",
       "    <tr>\n",
       "      <th>YEAR BUILT</th>\n",
       "      <td>0.047383</td>\n",
       "      <td>0.004655</td>\n",
       "      <td>0.006936</td>\n",
       "      <td>0.273723</td>\n",
       "      <td>-0.173303</td>\n",
       "      <td>0.240585</td>\n",
       "      <td>1.000000</td>\n",
       "      <td>0.172484</td>\n",
       "      <td>-1.000000</td>\n",
       "    </tr>\n",
       "    <tr>\n",
       "      <th>SALE PRICE</th>\n",
       "      <td>-0.059082</td>\n",
       "      <td>-0.025708</td>\n",
       "      <td>0.032455</td>\n",
       "      <td>0.404830</td>\n",
       "      <td>0.250613</td>\n",
       "      <td>0.548497</td>\n",
       "      <td>0.172484</td>\n",
       "      <td>1.000000</td>\n",
       "      <td>-0.172484</td>\n",
       "    </tr>\n",
       "    <tr>\n",
       "      <th>BUILDING AGE</th>\n",
       "      <td>-0.047383</td>\n",
       "      <td>-0.004655</td>\n",
       "      <td>-0.006936</td>\n",
       "      <td>-0.273723</td>\n",
       "      <td>0.173303</td>\n",
       "      <td>-0.240585</td>\n",
       "      <td>-1.000000</td>\n",
       "      <td>-0.172484</td>\n",
       "      <td>1.000000</td>\n",
       "    </tr>\n",
       "  </tbody>\n",
       "</table>\n",
       "</div>"
      ],
      "text/plain": [
       "                      BLOCK       LOT  COMMERCIAL UNITS  TOTAL UNITS  \\\n",
       "BLOCK              1.000000 -0.044041          0.008591    -0.007246   \n",
       "LOT               -0.044041  1.000000          0.279405     0.049669   \n",
       "COMMERCIAL UNITS   0.008591  0.279405          1.000000     0.153734   \n",
       "TOTAL UNITS       -0.007246  0.049669          0.153734     1.000000   \n",
       "LAND SQUARE FEET  -0.159227 -0.153088         -0.098318    -0.150309   \n",
       "GROSS SQUARE FEET -0.092249  0.063699          0.125586     0.634956   \n",
       "YEAR BUILT         0.047383  0.004655          0.006936     0.273723   \n",
       "SALE PRICE        -0.059082 -0.025708          0.032455     0.404830   \n",
       "BUILDING AGE      -0.047383 -0.004655         -0.006936    -0.273723   \n",
       "\n",
       "                   LAND SQUARE FEET  GROSS SQUARE FEET  YEAR BUILT  \\\n",
       "BLOCK                     -0.159227          -0.092249    0.047383   \n",
       "LOT                       -0.153088           0.063699    0.004655   \n",
       "COMMERCIAL UNITS          -0.098318           0.125586    0.006936   \n",
       "TOTAL UNITS               -0.150309           0.634956    0.273723   \n",
       "LAND SQUARE FEET           1.000000           0.112296   -0.173303   \n",
       "GROSS SQUARE FEET          0.112296           1.000000    0.240585   \n",
       "YEAR BUILT                -0.173303           0.240585    1.000000   \n",
       "SALE PRICE                 0.250613           0.548497    0.172484   \n",
       "BUILDING AGE               0.173303          -0.240585   -1.000000   \n",
       "\n",
       "                   SALE PRICE  BUILDING AGE  \n",
       "BLOCK               -0.059082     -0.047383  \n",
       "LOT                 -0.025708     -0.004655  \n",
       "COMMERCIAL UNITS     0.032455     -0.006936  \n",
       "TOTAL UNITS          0.404830     -0.273723  \n",
       "LAND SQUARE FEET     0.250613      0.173303  \n",
       "GROSS SQUARE FEET    0.548497     -0.240585  \n",
       "YEAR BUILT           0.172484     -1.000000  \n",
       "SALE PRICE           1.000000     -0.172484  \n",
       "BUILDING AGE        -0.172484      1.000000  "
      ]
     },
     "execution_count": 109,
     "metadata": {},
     "output_type": "execute_result"
    }
   ],
   "source": [
    "queens = data[data[\"NEIGHBORHOOD\"]==\"FLUSHING-NORTH\"]\n",
    "queens.corr()"
   ]
  },
  {
   "cell_type": "code",
   "execution_count": 110,
   "metadata": {},
   "outputs": [
    {
     "data": {
      "image/png": "[encoded data removed]",
      "text/plain": [
       "<Figure size 720x432 with 1 Axes>"
      ]
     },
     "metadata": {},
     "output_type": "display_data"
    }
   ],
   "source": [
    "plt.figure(figsize=(10,6))\n",
    "sns.boxplot(x=\"YEAR TYPE\", y=\"SALE PRICE\", data=data)\n",
    "plt.show()"
   ]
  },
  {
   "cell_type": "code",
   "execution_count": 111,
   "metadata": {},
   "outputs": [
    {
     "data": {
      "text/html": [
       "<div>\n",
       "<style scoped>\n",
       "    .dataframe tbody tr th:only-of-type {\n",
       "        vertical-align: middle;\n",
       "    }\n",
       "\n",
       "    .dataframe tbody tr th {\n",
       "        vertical-align: top;\n",
       "    }\n",
       "\n",
       "    .dataframe thead th {\n",
       "        text-align: right;\n",
       "    }\n",
       "</style>\n",
       "<table border=\"1\" class=\"dataframe\">\n",
       "  <thead>\n",
       "    <tr style=\"text-align: right;\">\n",
       "      <th></th>\n",
       "      <th>BOROUGH</th>\n",
       "      <th>NEIGHBORHOOD</th>\n",
       "      <th>BUILDING CLASS CATEGORY</th>\n",
       "      <th>TAX CLASS AT PRESENT</th>\n",
       "      <th>BLOCK</th>\n",
       "      <th>LOT</th>\n",
       "      <th>BUILDING CLASS AT PRESENT</th>\n",
       "      <th>ADDRESS</th>\n",
       "      <th>APARTMENT NUMBER</th>\n",
       "      <th>COMMERCIAL UNITS</th>\n",
       "      <th>TOTAL UNITS</th>\n",
       "      <th>LAND SQUARE FEET</th>\n",
       "      <th>GROSS SQUARE FEET</th>\n",
       "      <th>YEAR BUILT</th>\n",
       "      <th>TAX CLASS AT TIME OF SALE</th>\n",
       "      <th>BUILDING CLASS AT TIME OF SALE</th>\n",
       "      <th>SALE PRICE</th>\n",
       "      <th>SALE DATE</th>\n",
       "      <th>YEAR TYPE</th>\n",
       "      <th>BUILDING AGE</th>\n",
       "    </tr>\n",
       "  </thead>\n",
       "  <tbody>\n",
       "    <tr>\n",
       "      <th>0</th>\n",
       "      <td>3</td>\n",
       "      <td>GRAVESEND</td>\n",
       "      <td>02  TWO FAMILY HOMES</td>\n",
       "      <td>1</td>\n",
       "      <td>6916</td>\n",
       "      <td>89</td>\n",
       "      <td>B1</td>\n",
       "      <td>119 28TH AVENUE</td>\n",
       "      <td></td>\n",
       "      <td>0</td>\n",
       "      <td>2</td>\n",
       "      <td>1933</td>\n",
       "      <td>2816</td>\n",
       "      <td>1930</td>\n",
       "      <td>1</td>\n",
       "      <td>B1</td>\n",
       "      <td>180000</td>\n",
       "      <td>2010-03-04</td>\n",
       "      <td>PRE-WAR</td>\n",
       "      <td>88</td>\n",
       "    </tr>\n",
       "    <tr>\n",
       "      <th>1</th>\n",
       "      <td>4</td>\n",
       "      <td>LAURELTON</td>\n",
       "      <td>01  ONE FAMILY HOMES</td>\n",
       "      <td>1</td>\n",
       "      <td>12864</td>\n",
       "      <td>33</td>\n",
       "      <td>A2</td>\n",
       "      <td>121-17 237TH   STREET</td>\n",
       "      <td></td>\n",
       "      <td>0</td>\n",
       "      <td>1</td>\n",
       "      <td>3977</td>\n",
       "      <td>954</td>\n",
       "      <td>1950</td>\n",
       "      <td>1</td>\n",
       "      <td>A2</td>\n",
       "      <td>256900</td>\n",
       "      <td>2010-12-03</td>\n",
       "      <td>POST-WAR</td>\n",
       "      <td>68</td>\n",
       "    </tr>\n",
       "    <tr>\n",
       "      <th>2</th>\n",
       "      <td>2</td>\n",
       "      <td>BELMONT</td>\n",
       "      <td>03  THREE FAMILY HOMES</td>\n",
       "      <td>1</td>\n",
       "      <td>3113</td>\n",
       "      <td>39</td>\n",
       "      <td>C0</td>\n",
       "      <td>2293 SOUTHERN BOULEVARD</td>\n",
       "      <td></td>\n",
       "      <td>0</td>\n",
       "      <td>3</td>\n",
       "      <td>2974</td>\n",
       "      <td>5100</td>\n",
       "      <td>1925</td>\n",
       "      <td>1</td>\n",
       "      <td>C0</td>\n",
       "      <td>415000</td>\n",
       "      <td>2011-02-07</td>\n",
       "      <td>PRE-WAR</td>\n",
       "      <td>93</td>\n",
       "    </tr>\n",
       "    <tr>\n",
       "      <th>3</th>\n",
       "      <td>3</td>\n",
       "      <td>FLATBUSH-EAST</td>\n",
       "      <td>01  ONE FAMILY DWELLINGS</td>\n",
       "      <td>1</td>\n",
       "      <td>4893</td>\n",
       "      <td>38</td>\n",
       "      <td>A9</td>\n",
       "      <td>3905 SNYDER</td>\n",
       "      <td></td>\n",
       "      <td>0</td>\n",
       "      <td>1</td>\n",
       "      <td>1200</td>\n",
       "      <td>1200</td>\n",
       "      <td>1920</td>\n",
       "      <td>1</td>\n",
       "      <td>A9</td>\n",
       "      <td>410000</td>\n",
       "      <td>2016-12-30</td>\n",
       "      <td>PRE-WAR</td>\n",
       "      <td>98</td>\n",
       "    </tr>\n",
       "    <tr>\n",
       "      <th>4</th>\n",
       "      <td>4</td>\n",
       "      <td>RIDGEWOOD</td>\n",
       "      <td>07  RENTALS - WALKUP APARTMENTS</td>\n",
       "      <td>2A</td>\n",
       "      <td>3555</td>\n",
       "      <td>20</td>\n",
       "      <td>C3</td>\n",
       "      <td>1622 SUMMERFIELD ST</td>\n",
       "      <td></td>\n",
       "      <td>0</td>\n",
       "      <td>4</td>\n",
       "      <td>2500</td>\n",
       "      <td>3210</td>\n",
       "      <td>1931</td>\n",
       "      <td>2</td>\n",
       "      <td>C3</td>\n",
       "      <td>1203000</td>\n",
       "      <td>2015-11-09</td>\n",
       "      <td>PRE-WAR</td>\n",
       "      <td>87</td>\n",
       "    </tr>\n",
       "    <tr>\n",
       "      <th>5</th>\n",
       "      <td>4</td>\n",
       "      <td>FLORAL PARK</td>\n",
       "      <td>01  ONE FAMILY DWELLINGS</td>\n",
       "      <td>1</td>\n",
       "      <td>8712</td>\n",
       "      <td>27</td>\n",
       "      <td>A2</td>\n",
       "      <td>80-11 256 STREET</td>\n",
       "      <td></td>\n",
       "      <td>0</td>\n",
       "      <td>1</td>\n",
       "      <td>4000</td>\n",
       "      <td>1134</td>\n",
       "      <td>1950</td>\n",
       "      <td>1</td>\n",
       "      <td>A2</td>\n",
       "      <td>470000</td>\n",
       "      <td>2013-02-22</td>\n",
       "      <td>POST-WAR</td>\n",
       "      <td>68</td>\n",
       "    </tr>\n",
       "    <tr>\n",
       "      <th>6</th>\n",
       "      <td>4</td>\n",
       "      <td>ST. ALBANS</td>\n",
       "      <td>01  ONE FAMILY DWELLINGS</td>\n",
       "      <td>1</td>\n",
       "      <td>10312</td>\n",
       "      <td>66</td>\n",
       "      <td>A1</td>\n",
       "      <td>114-78 178 PLACE</td>\n",
       "      <td></td>\n",
       "      <td>0</td>\n",
       "      <td>1</td>\n",
       "      <td>6000</td>\n",
       "      <td>2052</td>\n",
       "      <td>1955</td>\n",
       "      <td>1</td>\n",
       "      <td>A1</td>\n",
       "      <td>475000</td>\n",
       "      <td>2013-10-28</td>\n",
       "      <td>POST-WAR</td>\n",
       "      <td>63</td>\n",
       "    </tr>\n",
       "    <tr>\n",
       "      <th>7</th>\n",
       "      <td>3</td>\n",
       "      <td>OCEAN PARKWAY-NORTH</td>\n",
       "      <td>01  ONE FAMILY HOMES</td>\n",
       "      <td>1</td>\n",
       "      <td>5408</td>\n",
       "      <td>20</td>\n",
       "      <td>A1</td>\n",
       "      <td>756 EAST 2ND   STREET</td>\n",
       "      <td></td>\n",
       "      <td>0</td>\n",
       "      <td>1</td>\n",
       "      <td>3750</td>\n",
       "      <td>1720</td>\n",
       "      <td>1930</td>\n",
       "      <td>1</td>\n",
       "      <td>A1</td>\n",
       "      <td>700000</td>\n",
       "      <td>2012-08-21</td>\n",
       "      <td>PRE-WAR</td>\n",
       "      <td>88</td>\n",
       "    </tr>\n",
       "    <tr>\n",
       "      <th>8</th>\n",
       "      <td>4</td>\n",
       "      <td>RIDGEWOOD</td>\n",
       "      <td>07 RENTALS - WALKUP APARTMENTS</td>\n",
       "      <td>2A</td>\n",
       "      <td>3486</td>\n",
       "      <td>61</td>\n",
       "      <td>C2</td>\n",
       "      <td>2017 PALMETTO STREET</td>\n",
       "      <td></td>\n",
       "      <td>0</td>\n",
       "      <td>6</td>\n",
       "      <td>2742</td>\n",
       "      <td>5600</td>\n",
       "      <td>1930</td>\n",
       "      <td>2</td>\n",
       "      <td>C2</td>\n",
       "      <td>1512500</td>\n",
       "      <td>2017-06-23</td>\n",
       "      <td>PRE-WAR</td>\n",
       "      <td>88</td>\n",
       "    </tr>\n",
       "    <tr>\n",
       "      <th>9</th>\n",
       "      <td>3</td>\n",
       "      <td>EAST NEW YORK</td>\n",
       "      <td>07  RENTALS - WALKUP APARTMENTS</td>\n",
       "      <td>2A</td>\n",
       "      <td>4306</td>\n",
       "      <td>48</td>\n",
       "      <td>C3</td>\n",
       "      <td>765 HENDRIX STREET</td>\n",
       "      <td></td>\n",
       "      <td>0</td>\n",
       "      <td>4</td>\n",
       "      <td>2450</td>\n",
       "      <td>3080</td>\n",
       "      <td>1930</td>\n",
       "      <td>2</td>\n",
       "      <td>C3</td>\n",
       "      <td>695000</td>\n",
       "      <td>2016-12-22</td>\n",
       "      <td>PRE-WAR</td>\n",
       "      <td>88</td>\n",
       "    </tr>\n",
       "  </tbody>\n",
       "</table>\n",
       "</div>"
      ],
      "text/plain": [
       "  BOROUGH               NEIGHBORHOOD  \\\n",
       "0       3  GRAVESEND                   \n",
       "1       4  LAURELTON                   \n",
       "2       2  BELMONT                     \n",
       "3       3  FLATBUSH-EAST               \n",
       "4       4  RIDGEWOOD                   \n",
       "5       4  FLORAL PARK                 \n",
       "6       4  ST. ALBANS                  \n",
       "7       3  OCEAN PARKWAY-NORTH         \n",
       "8       4                  RIDGEWOOD   \n",
       "9       3  EAST NEW YORK               \n",
       "\n",
       "                        BUILDING CLASS CATEGORY TAX CLASS AT PRESENT  BLOCK  \\\n",
       "0  02  TWO FAMILY HOMES                                            1   6916   \n",
       "1  01  ONE FAMILY HOMES                                            1  12864   \n",
       "2  03  THREE FAMILY HOMES                                          1   3113   \n",
       "3  01  ONE FAMILY DWELLINGS                                        1   4893   \n",
       "4  07  RENTALS - WALKUP APARTMENTS                                2A   3555   \n",
       "5  01  ONE FAMILY DWELLINGS                                        1   8712   \n",
       "6  01  ONE FAMILY DWELLINGS                                        1  10312   \n",
       "7  01  ONE FAMILY HOMES                                            1   5408   \n",
       "8   07 RENTALS - WALKUP APARTMENTS                                2A   3486   \n",
       "9  07  RENTALS - WALKUP APARTMENTS                                2A   4306   \n",
       "\n",
       "   LOT BUILDING CLASS AT PRESENT                                    ADDRESS  \\\n",
       "0   89                        B1  119 28TH AVENUE                             \n",
       "1   33                        A2  121-17 237TH   STREET                       \n",
       "2   39                        C0  2293 SOUTHERN BOULEVARD                     \n",
       "3   38                        A9  3905 SNYDER                                 \n",
       "4   20                        C3  1622 SUMMERFIELD ST                         \n",
       "5   27                        A2  80-11 256 STREET                            \n",
       "6   66                        A1  114-78 178 PLACE                            \n",
       "7   20                        A1  756 EAST 2ND   STREET                       \n",
       "8   61                        C2                       2017 PALMETTO STREET   \n",
       "9   48                        C3  765 HENDRIX STREET                          \n",
       "\n",
       "  APARTMENT NUMBER  COMMERCIAL UNITS  TOTAL UNITS  LAND SQUARE FEET  \\\n",
       "0                                  0            2              1933   \n",
       "1                                  0            1              3977   \n",
       "2                                  0            3              2974   \n",
       "3                                  0            1              1200   \n",
       "4                                  0            4              2500   \n",
       "5                                  0            1              4000   \n",
       "6                                  0            1              6000   \n",
       "7                                  0            1              3750   \n",
       "8                                  0            6              2742   \n",
       "9                                  0            4              2450   \n",
       "\n",
       "   GROSS SQUARE FEET  YEAR BUILT TAX CLASS AT TIME OF SALE  \\\n",
       "0               2816        1930                         1   \n",
       "1                954        1950                         1   \n",
       "2               5100        1925                         1   \n",
       "3               1200        1920                         1   \n",
       "4               3210        1931                         2   \n",
       "5               1134        1950                         1   \n",
       "6               2052        1955                         1   \n",
       "7               1720        1930                         1   \n",
       "8               5600        1930                         2   \n",
       "9               3080        1930                         2   \n",
       "\n",
       "  BUILDING CLASS AT TIME OF SALE  SALE PRICE  SALE DATE YEAR TYPE  \\\n",
       "0                             B1      180000 2010-03-04   PRE-WAR   \n",
       "1                             A2      256900 2010-12-03  POST-WAR   \n",
       "2                             C0      415000 2011-02-07   PRE-WAR   \n",
       "3                             A9      410000 2016-12-30   PRE-WAR   \n",
       "4                             C3     1203000 2015-11-09   PRE-WAR   \n",
       "5                             A2      470000 2013-02-22  POST-WAR   \n",
       "6                             A1      475000 2013-10-28  POST-WAR   \n",
       "7                             A1      700000 2012-08-21   PRE-WAR   \n",
       "8                             C2     1512500 2017-06-23   PRE-WAR   \n",
       "9                             C3      695000 2016-12-22   PRE-WAR   \n",
       "\n",
       "   BUILDING AGE  \n",
       "0            88  \n",
       "1            68  \n",
       "2            93  \n",
       "3            98  \n",
       "4            87  \n",
       "5            68  \n",
       "6            63  \n",
       "7            88  \n",
       "8            88  \n",
       "9            88  "
      ]
     },
     "execution_count": 111,
     "metadata": {},
     "output_type": "execute_result"
    }
   ],
   "source": [
    "data.head(10)"
   ]
  },
  {
   "cell_type": "code",
   "execution_count": 112,
   "metadata": {},
   "outputs": [],
   "source": [
    "data.to_csv(\"binned_clean.csv\")"
   ]
  },
  {
   "cell_type": "code",
   "execution_count": 113,
   "metadata": {},
   "outputs": [
    {
     "name": "stdout",
     "output_type": "stream",
     "text": [
      "Unnamed: 0                         int64\n",
      "BOROUGH                            int64\n",
      "NEIGHBORHOOD                      object\n",
      "BUILDING CLASS CATEGORY           object\n",
      "TAX CLASS AT PRESENT              object\n",
      "BLOCK                              int64\n",
      "LOT                                int64\n",
      "BUILDING CLASS AT PRESENT         object\n",
      "ADDRESS                           object\n",
      "APARTMENT NUMBER                  object\n",
      "COMMERCIAL UNITS                   int64\n",
      "TOTAL UNITS                        int64\n",
      "LAND SQUARE FEET                   int64\n",
      "GROSS SQUARE FEET                  int64\n",
      "YEAR BUILT                         int64\n",
      "TAX CLASS AT TIME OF SALE          int64\n",
      "BUILDING CLASS AT TIME OF SALE    object\n",
      "SALE PRICE                         int64\n",
      "SALE DATE                         object\n",
      "YEAR TYPE                         object\n",
      "BUILDING AGE                       int64\n",
      "dtype: object\n"
     ]
    }
   ],
   "source": [
    "data = pd.read_csv(\"binned_clean.csv\")\n",
    "print(data.dtypes)"
   ]
  },
  {
   "cell_type": "code",
   "execution_count": 114,
   "metadata": {},
   "outputs": [],
   "source": [
    "def col_onehot_encoding(col):\n",
    "    global data\n",
    "    prefix = col.lower().replace(\" \",\"_\")\n",
    "    data = pd.concat([data, pd.get_dummies(data[col], prefix=prefix)], axis=1)\n",
    "    data.drop([col], axis=1, inplace=True)"
   ]
  },
  {
   "cell_type": "code",
   "execution_count": 115,
   "metadata": {},
   "outputs": [
    {
     "name": "stdout",
     "output_type": "stream",
     "text": [
      "Unnamed: 0                                 int64\n",
      "BLOCK                                      int64\n",
      "LOT                                        int64\n",
      "ADDRESS                                   object\n",
      "APARTMENT NUMBER                          object\n",
      "COMMERCIAL UNITS                           int64\n",
      "TOTAL UNITS                                int64\n",
      "LAND SQUARE FEET                           int64\n",
      "GROSS SQUARE FEET                          int64\n",
      "YEAR BUILT                                 int64\n",
      "SALE PRICE                                 int64\n",
      "SALE DATE                                 object\n",
      "BUILDING AGE                               int64\n",
      "borough_1                                  uint8\n",
      "borough_2                                  uint8\n",
      "borough_3                                  uint8\n",
      "borough_4                                  uint8\n",
      "borough_5                                  uint8\n",
      "neighborhood_AIRPORT LA GUARDIA            uint8\n",
      "neighborhood_AIRPORT LA GUARDIA            uint8\n",
      "neighborhood_ALPHABET CITY                 uint8\n",
      "neighborhood_ANNADALE                      uint8\n",
      "neighborhood_ANNADALE                      uint8\n",
      "neighborhood_ARDEN HEIGHTS                 uint8\n",
      "neighborhood_ARDEN HEIGHTS                 uint8\n",
      "neighborhood_ARROCHAR                      uint8\n",
      "neighborhood_ARROCHAR                      uint8\n",
      "neighborhood_ARROCHAR-SHORE ACRES          uint8\n",
      "neighborhood_ARROCHAR-SHORE ACRES          uint8\n",
      "neighborhood_ARVERNE                       uint8\n",
      "                                           ...  \n",
      "building_class_at_time_of_sale_B3          uint8\n",
      "building_class_at_time_of_sale_B9          uint8\n",
      "building_class_at_time_of_sale_C0          uint8\n",
      "building_class_at_time_of_sale_C1          uint8\n",
      "building_class_at_time_of_sale_C2          uint8\n",
      "building_class_at_time_of_sale_C3          uint8\n",
      "building_class_at_time_of_sale_C4          uint8\n",
      "building_class_at_time_of_sale_C5          uint8\n",
      "building_class_at_time_of_sale_C6          uint8\n",
      "building_class_at_time_of_sale_C7          uint8\n",
      "building_class_at_time_of_sale_C8          uint8\n",
      "building_class_at_time_of_sale_C9          uint8\n",
      "building_class_at_time_of_sale_D1          uint8\n",
      "building_class_at_time_of_sale_D2          uint8\n",
      "building_class_at_time_of_sale_D3          uint8\n",
      "building_class_at_time_of_sale_D4          uint8\n",
      "building_class_at_time_of_sale_D5          uint8\n",
      "building_class_at_time_of_sale_D6          uint8\n",
      "building_class_at_time_of_sale_D7          uint8\n",
      "building_class_at_time_of_sale_D9          uint8\n",
      "building_class_at_time_of_sale_R4          uint8\n",
      "building_class_at_time_of_sale_S0          uint8\n",
      "building_class_at_time_of_sale_S1          uint8\n",
      "building_class_at_time_of_sale_S2          uint8\n",
      "year_type_MODERN                           uint8\n",
      "year_type_POST-WAR                         uint8\n",
      "year_type_PRE PRE-WAR                      uint8\n",
      "year_type_PRE-WAR                          uint8\n",
      "tax_class_at_time_of_sale_1                uint8\n",
      "tax_class_at_time_of_sale_2                uint8\n",
      "Length: 595, dtype: object\n"
     ]
    }
   ],
   "source": [
    "cols = [\"BOROUGH\", \"NEIGHBORHOOD\", \"BUILDING CLASS CATEGORY\", \"TAX CLASS AT PRESENT\", \"BUILDING CLASS AT PRESENT\",\\\n",
    "        \"BUILDING CLASS AT TIME OF SALE\", \"YEAR TYPE\", \"TAX CLASS AT TIME OF SALE\"]\n",
    "\n",
    "for col in cols:\n",
    "    col_onehot_encoding(col)\n",
    "print(data.dtypes)\n",
    "\n",
    "data[\"SALE DATE\"] = data[\"SALE DATE\"].apply(lambda date: date.split(\"-\")[0]).astype(int) #this is temporary"
   ]
  },
  {
   "cell_type": "code",
   "execution_count": 116,
   "metadata": {},
   "outputs": [
    {
     "name": "stdout",
     "output_type": "stream",
     "text": [
      "data size: (183063, 595)\n",
      "test size:  (27459, 595)\n",
      "train size:  (128144, 595)\n",
      "validation size:  (27460, 595)\n"
     ]
    }
   ],
   "source": [
    "train_data, test_data = train_test_split(data, test_size=0.3)\n",
    "test_data, validation_data = train_test_split(test_data, test_size=0.5)\n",
    "print(\"data size:\", data.shape)\n",
    "print(\"test size: \", test_data.shape)\n",
    "print(\"train size: \", train_data.shape)\n",
    "print(\"validation size: \", validation_data.shape)"
   ]
  },
  {
   "cell_type": "code",
   "execution_count": 117,
   "metadata": {},
   "outputs": [],
   "source": [
    "train_cols = list(train_data.columns.values)\n",
    "train_cols.remove(\"SALE PRICE\")\n",
    "train_cols.remove(\"Unnamed: 0\")\n",
    "train_cols.remove(\"ADDRESS\") #temporery\n",
    "train_cols.remove(\"APARTMENT NUMBER\") #temperary"
   ]
  },
  {
   "cell_type": "code",
   "execution_count": 118,
   "metadata": {},
   "outputs": [],
   "source": [
    "X = train_data.loc[:,train_cols]\n",
    "Y = train_data.loc[:,[\"SALE PRICE\"]]\n",
    "\n",
    "validation_X = validation_data.loc[:, train_cols]\n",
    "validation_Y = validation_data.loc[:, [\"SALE PRICE\"]].astype(int)\n",
    "\n",
    "test_X = test_data.loc[:, train_cols]\n",
    "test_Y = test_data.loc[:, [\"SALE PRICE\"]].astype(int)"
   ]
  },
  {
   "cell_type": "code",
   "execution_count": 119,
   "metadata": {},
   "outputs": [],
   "source": [
    "#data[\"SALE DATE\"] = data[\"SALE DATE\"].apply(lambda date: date.split(\"-\")[0]) #this is temporary"
   ]
  },
  {
   "cell_type": "code",
   "execution_count": 120,
   "metadata": {},
   "outputs": [],
   "source": [
    "def measure_acc(y_pred, y):\n",
    "    #print(y)\n",
    "    #print(y_pred)\n",
    "    s = 0\n",
    "    percentage = 0.1\n",
    "    for i in range(y.shape[0]):\n",
    "        pred = y_pred[i]\n",
    "        real = y[\"SALE PRICE\"].iloc[i]\n",
    "        if float(pred)/real <1+percentage and float(pred)/real >1-percentage:\n",
    "            s+=1\n",
    "    rmse = np.sqrt(mean_squared_error(y, y_pred))\n",
    "    mean_abs_err = mean_absolute_error(y, y_pred)\n",
    "    print(\"number of samples in validatoin set: \", y.shape[0])\n",
    "    print(\"number of predictions within percentage: \", s)\n",
    "    print(\"ratio of predictoin within percentage: \", float(s)/y.shape[0])\n",
    "    print(\"Root Mean Squared Error: \", rmse)\n",
    "    print(\"Mean Absolute Error: \", mean_abs_err)"
   ]
  },
  {
   "cell_type": "markdown",
   "metadata": {},
   "source": [
    "## Linear Regression"
   ]
  },
  {
   "cell_type": "code",
   "execution_count": 121,
   "metadata": {},
   "outputs": [
    {
     "data": {
      "text/plain": [
       "LinearRegression(copy_X=True, fit_intercept=True, n_jobs=1, normalize=False)"
      ]
     },
     "execution_count": 121,
     "metadata": {},
     "output_type": "execute_result"
    }
   ],
   "source": [
    "linreg = LinearRegression()\n",
    "linreg.fit(X, Y[\"SALE PRICE\"])"
   ]
  },
  {
   "cell_type": "code",
   "execution_count": 122,
   "metadata": {},
   "outputs": [
    {
     "name": "stdout",
     "output_type": "stream",
     "text": [
      "number of samples in validatoin set:  27460\n",
      "number of predictions within percentage:  7615\n",
      "ratio of predictoin within percentage:  0.2773124544792425\n",
      "Root Mean Squared Error:  438017424.63595784\n",
      "Mean Absolute Error:  6468456.809249818\n"
     ]
    }
   ],
   "source": [
    "pred_y = linreg.predict(validation_X)\n",
    "measure_acc(pred_y, validation_Y)"
   ]
  },
  {
   "cell_type": "markdown",
   "metadata": {},
   "source": [
    "## Ridge Regression"
   ]
  },
  {
   "cell_type": "code",
   "execution_count": 123,
   "metadata": {},
   "outputs": [
    {
     "data": {
      "text/plain": [
       "Ridge(alpha=0.1, copy_X=True, fit_intercept=True, max_iter=None,\n",
       "   normalize=False, random_state=None, solver='auto', tol=0.001)"
      ]
     },
     "execution_count": 123,
     "metadata": {},
     "output_type": "execute_result"
    }
   ],
   "source": [
    "ridge = Ridge(alpha = 0.1)\n",
    "ridge.fit(X,Y[\"SALE PRICE\"])"
   ]
  },
  {
   "cell_type": "code",
   "execution_count": 124,
   "metadata": {},
   "outputs": [
    {
     "name": "stdout",
     "output_type": "stream",
     "text": [
      "number of samples in validatoin set:  27460\n",
      "number of predictions within percentage:  7606\n",
      "ratio of predictoin within percentage:  0.2769847050254916\n",
      "Root Mean Squared Error:  300828.3382856221\n",
      "Mean Absolute Error:  178244.17261655035\n"
     ]
    }
   ],
   "source": [
    "pred_y = ridge.predict(validation_X)\n",
    "measure_acc(pred_y, validation_Y)"
   ]
  },
  {
   "cell_type": "markdown",
   "metadata": {},
   "source": [
    "## Lasso Regression"
   ]
  },
  {
   "cell_type": "code",
   "execution_count": 125,
   "metadata": {},
   "outputs": [
    {
     "name": "stderr",
     "output_type": "stream",
     "text": [
      "/Users/tamir/miniconda2/envs/PointUp/lib/python3.6/site-packages/sklearn/linear_model/coordinate_descent.py:491: ConvergenceWarning: Objective did not converge. You might want to increase the number of iterations. Fitting data with very small alpha may cause precision problems.\n",
      "  ConvergenceWarning)\n"
     ]
    },
    {
     "data": {
      "text/plain": [
       "Lasso(alpha=1, copy_X=True, fit_intercept=True, max_iter=1000,\n",
       "   normalize=False, positive=False, precompute=False, random_state=None,\n",
       "   selection='cyclic', tol=0.0001, warm_start=False)"
      ]
     },
     "execution_count": 125,
     "metadata": {},
     "output_type": "execute_result"
    }
   ],
   "source": [
    "lasso = Lasso(alpha=1)\n",
    "lasso.fit(X,Y[\"SALE PRICE\"])"
   ]
  },
  {
   "cell_type": "code",
   "execution_count": 126,
   "metadata": {},
   "outputs": [
    {
     "name": "stdout",
     "output_type": "stream",
     "text": [
      "number of samples in validatoin set:  27460\n",
      "number of predictions within percentage:  7611\n",
      "ratio of predictoin within percentage:  0.2771667880553532\n",
      "Root Mean Squared Error:  300868.4374417629\n",
      "Mean Absolute Error:  178253.3992089409\n"
     ]
    }
   ],
   "source": [
    "pred_y = lasso.predict(validation_X)\n",
    "measure_acc(pred_y, validation_Y)"
   ]
  },
  {
   "cell_type": "markdown",
   "metadata": {},
   "source": [
    "## Elastic Net"
   ]
  },
  {
   "cell_type": "code",
   "execution_count": 127,
   "metadata": {},
   "outputs": [
    {
     "ename": "KeyboardInterrupt",
     "evalue": "",
     "output_type": "error",
     "traceback": [
      "\u001b[0;31m---------------------------------------------------------------------------\u001b[0m",
      "\u001b[0;31mKeyboardInterrupt\u001b[0m                         Traceback (most recent call last)",
      "\u001b[0;32m<ipython-input-127-7099a8cf5e7e>\u001b[0m in \u001b[0;36m<module>\u001b[0;34m()\u001b[0m\n\u001b[1;32m      1\u001b[0m \u001b[0melastic_net\u001b[0m \u001b[0;34m=\u001b[0m \u001b[0mElasticNet\u001b[0m\u001b[0;34m(\u001b[0m\u001b[0;34m)\u001b[0m\u001b[0;34m\u001b[0m\u001b[0m\n\u001b[0;32m----> 2\u001b[0;31m \u001b[0melastic_net\u001b[0m\u001b[0;34m.\u001b[0m\u001b[0mfit\u001b[0m\u001b[0;34m(\u001b[0m\u001b[0mX\u001b[0m\u001b[0;34m,\u001b[0m \u001b[0mY\u001b[0m\u001b[0;34m[\u001b[0m\u001b[0;34m\"SALE PRICE\"\u001b[0m\u001b[0;34m]\u001b[0m\u001b[0;34m)\u001b[0m\u001b[0;34m\u001b[0m\u001b[0m\n\u001b[0m",
      "\u001b[0;32m~/miniconda2/envs/PointUp/lib/python3.6/site-packages/sklearn/linear_model/coordinate_descent.py\u001b[0m in \u001b[0;36mfit\u001b[0;34m(self, X, y, check_input)\u001b[0m\n\u001b[1;32m    750\u001b[0m                           \u001b[0mrandom_state\u001b[0m\u001b[0;34m=\u001b[0m\u001b[0mself\u001b[0m\u001b[0;34m.\u001b[0m\u001b[0mrandom_state\u001b[0m\u001b[0;34m,\u001b[0m\u001b[0;34m\u001b[0m\u001b[0m\n\u001b[1;32m    751\u001b[0m                           \u001b[0mselection\u001b[0m\u001b[0;34m=\u001b[0m\u001b[0mself\u001b[0m\u001b[0;34m.\u001b[0m\u001b[0mselection\u001b[0m\u001b[0;34m,\u001b[0m\u001b[0;34m\u001b[0m\u001b[0m\n\u001b[0;32m--> 752\u001b[0;31m                           check_input=False)\n\u001b[0m\u001b[1;32m    753\u001b[0m             \u001b[0mcoef_\u001b[0m\u001b[0;34m[\u001b[0m\u001b[0mk\u001b[0m\u001b[0;34m]\u001b[0m \u001b[0;34m=\u001b[0m \u001b[0mthis_coef\u001b[0m\u001b[0;34m[\u001b[0m\u001b[0;34m:\u001b[0m\u001b[0;34m,\u001b[0m \u001b[0;36m0\u001b[0m\u001b[0;34m]\u001b[0m\u001b[0;34m\u001b[0m\u001b[0m\n\u001b[1;32m    754\u001b[0m             \u001b[0mdual_gaps_\u001b[0m\u001b[0;34m[\u001b[0m\u001b[0mk\u001b[0m\u001b[0;34m]\u001b[0m \u001b[0;34m=\u001b[0m \u001b[0mthis_dual_gap\u001b[0m\u001b[0;34m[\u001b[0m\u001b[0;36m0\u001b[0m\u001b[0;34m]\u001b[0m\u001b[0;34m\u001b[0m\u001b[0m\n",
      "\u001b[0;32m~/miniconda2/envs/PointUp/lib/python3.6/site-packages/sklearn/linear_model/coordinate_descent.py\u001b[0m in \u001b[0;36menet_path\u001b[0;34m(X, y, l1_ratio, eps, n_alphas, alphas, precompute, Xy, copy_X, coef_init, verbose, return_n_iter, positive, check_input, **params)\u001b[0m\n\u001b[1;32m    475\u001b[0m             model = cd_fast.enet_coordinate_descent(\n\u001b[1;32m    476\u001b[0m                 \u001b[0mcoef_\u001b[0m\u001b[0;34m,\u001b[0m \u001b[0ml1_reg\u001b[0m\u001b[0;34m,\u001b[0m \u001b[0ml2_reg\u001b[0m\u001b[0;34m,\u001b[0m \u001b[0mX\u001b[0m\u001b[0;34m,\u001b[0m \u001b[0my\u001b[0m\u001b[0;34m,\u001b[0m \u001b[0mmax_iter\u001b[0m\u001b[0;34m,\u001b[0m \u001b[0mtol\u001b[0m\u001b[0;34m,\u001b[0m \u001b[0mrng\u001b[0m\u001b[0;34m,\u001b[0m \u001b[0mrandom\u001b[0m\u001b[0;34m,\u001b[0m\u001b[0;34m\u001b[0m\u001b[0m\n\u001b[0;32m--> 477\u001b[0;31m                 positive)\n\u001b[0m\u001b[1;32m    478\u001b[0m         \u001b[0;32melse\u001b[0m\u001b[0;34m:\u001b[0m\u001b[0;34m\u001b[0m\u001b[0m\n\u001b[1;32m    479\u001b[0m             raise ValueError(\"Precompute should be one of True, False, \"\n",
      "\u001b[0;31mKeyboardInterrupt\u001b[0m: "
     ]
    }
   ],
   "source": [
    "elastic_net = ElasticNet()\n",
    "elastic_net.fit(X, Y[\"SALE PRICE\"])"
   ]
  },
  {
   "cell_type": "code",
   "execution_count": null,
   "metadata": {},
   "outputs": [],
   "source": [
    "pred_y = elastic_net.predict(validation_X)\n",
    "measure_acc(pred_y, validation_Y)"
   ]
  },
  {
   "cell_type": "markdown",
   "metadata": {},
   "source": [
    "## Random Forest"
   ]
  },
  {
   "cell_type": "code",
   "execution_count": null,
   "metadata": {},
   "outputs": [],
   "source": [
    "rand_forest = RandomForestRegressor()\n",
    "rand_forest.fit(X, Y[\"SALE PRICE\"])"
   ]
  },
  {
   "cell_type": "code",
   "execution_count": null,
   "metadata": {},
   "outputs": [],
   "source": [
    "pred_y = rand_forest.predict(validation_X)\n",
    "print(\"R^2: \", rand_forest.score(validation_X, validation_Y))\n",
    "measure_acc(pred_y, validation_Y)"
   ]
  },
  {
   "cell_type": "markdown",
   "metadata": {},
   "source": [
    "## XGBoost"
   ]
  },
  {
   "cell_type": "code",
   "execution_count": null,
   "metadata": {},
   "outputs": [],
   "source": [
    "xgdmat=xgb.DMatrix(X,Y[\"SALE PRICE\"])\n",
    "our_params={'eta':0.1,'seed':0,'subsample':0.8,'colsample_bytree':0.8,'objective':'reg:linear','max_depth':3,'min_child_weight':1}\n",
    "final_gb=xgb.train(our_params, xgdmat)"
   ]
  },
  {
   "cell_type": "code",
   "execution_count": null,
   "metadata": {},
   "outputs": [],
   "source": [
    "tesdmat=xgb.DMatrix(validation_X)\n",
    "y_pred=final_gb.predict(tesdmat)\n",
    "print(y_pred)"
   ]
  }
 ],
 "metadata": {
  "kernelspec": {
   "display_name": "Python 3",
   "language": "python",
   "name": "python3"
  },
  "language_info": {
   "codemirror_mode": {
    "name": "ipython",
    "version": 3
   },
   "file_extension": ".py",
   "mimetype": "text/x-python",
   "name": "python",
   "nbconvert_exporter": "python",
   "pygments_lexer": "ipython3",
   "version": "3.6.4"
  }
 },
 "nbformat": 4,
 "nbformat_minor": 2
}
